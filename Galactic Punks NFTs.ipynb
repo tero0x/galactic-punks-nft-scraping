{
 "cells": [
  {
   "cell_type": "code",
   "execution_count": 114,
   "metadata": {},
   "outputs": [],
   "source": [
    "import requests\n",
    "import pandas as pd\n",
    "from time import sleep"
   ]
  },
  {
   "cell_type": "code",
   "execution_count": 115,
   "metadata": {},
   "outputs": [],
   "source": [
    "NFT_CONTRACT = \"terra103z9cnqm8psy0nyxqtugg6m7xnwvlkqdzm4s4k\"\n",
    "OFFSET = 158292848"
   ]
  },
  {
   "cell_type": "code",
   "execution_count": 69,
   "metadata": {},
   "outputs": [],
   "source": [
    "def get_message_from_tx(tx):\n",
    "    m_list = []\n",
    "    messages = tx['tx']['value']['msg']\n",
    "    for m in messages:\n",
    "        if 'execute_msg' in m['value'].keys():\n",
    "            msg_obj = {\n",
    "                'type':m['type'],\n",
    "                'execute_msg':m['value']['execute_msg']\n",
    "            }\n",
    "            m_list.append(msg_obj)\n",
    "    return m_list"
   ]
  },
  {
   "cell_type": "code",
   "execution_count": 98,
   "metadata": {},
   "outputs": [],
   "source": [
    "def get_all_messages(nft_contract, offset = 0 ):\n",
    "    loop = True\n",
    "    m_list = []\n",
    "    offset = offset\n",
    "    while loop:\n",
    "        request_success = False\n",
    "        while not request_success:\n",
    "            data = requests.get(f\"https://fcd.terra.dev/v1/txs?offset={offset}&limit=100&account={nft_contract}\")\n",
    "            request_success = True if data.status_code == 200 else False\n",
    "            if request_success == False:\n",
    "                sleep(20)\n",
    "                print(data.text)\n",
    "                print(\"retrying request in 20 secs\")\n",
    "        x = data.json()\n",
    "        for tx in x['txs']:\n",
    "            m_list = m_list + get_message_from_tx(tx)\n",
    "        if 'next' in x.keys():\n",
    "            print(offset)\n",
    "            offset = x['next']\n",
    "        else:\n",
    "            break\n",
    "        sleep(1)\n",
    "    m_list = [i for i in m_list if 'mint_nft' in i['execute_msg']]\n",
    "    return m_list"
   ]
  },
  {
   "cell_type": "code",
   "execution_count": 99,
   "metadata": {},
   "outputs": [],
   "source": [
    "def generate_dataframe(message_list):\n",
    "    for i in message_list:\n",
    "        i['token_id'] = i['execute_msg']['mint_nft']['token_id']\n",
    "        i['name'] = i['execute_msg']['mint_nft']['extension']['name']\n",
    "        i['image'] = i['execute_msg']['mint_nft']['extension']['image']\n",
    "        i['attributes'] = i['execute_msg']['mint_nft']['extension']['attributes']\n",
    "        i['description'] = i['execute_msg']['mint_nft']['extension']['description']\n",
    "        i['token_uri'] = i['execute_msg']['mint_nft']['token_uri']\n",
    "        \n",
    "    for i in message_list:\n",
    "        for a in i['attributes']:\n",
    "            i[a['trait_type']] = a['value']\n",
    "            \n",
    "    df = pd.DataFrame(message_list)\n",
    "    df['number_attributes'] = df.notnull()[\n",
    "        ['backgrounds','suits','species','face','hair','glasses','headware','jewelry']\n",
    "    ].sum(axis=1)\n",
    "    df_lean = df[\n",
    "        ['description','name','token_id','image','token_uri',\n",
    "         'backgrounds','suits','species','face','hair','glasses',\n",
    "         'headware','jewelry','number_attributes']\n",
    "    ]\n",
    "    return df_lean"
   ]
  },
  {
   "cell_type": "code",
   "execution_count": 100,
   "metadata": {},
   "outputs": [],
   "source": [
    "def calculate_rarity(row, attribute_types):\n",
    "    score = 0\n",
    "    for attribute in attribute_types:\n",
    "        score = score + 1 / row[f\"{attribute}_probability\"]\n",
    "    return score"
   ]
  },
  {
   "cell_type": "code",
   "execution_count": 109,
   "metadata": {},
   "outputs": [],
   "source": [
    "def generate_dataframe(messages):\n",
    "    extensions = [x[\"execute_msg\"][\"mint_nft\"][\"extension\"] for x in messages]\n",
    "    for j in extensions:\n",
    "        ipfs_id = j[\"image\"].replace(\"ipfs://\",\"\")\n",
    "        j['ipfs_url'] = f\"https://cf-ipfs.com/ipfs/{ipfs_id}\"\n",
    "        for a in j[\"attributes\"]:\n",
    "            j[a[\"trait_type\"]] = a[\"value\"]\n",
    "    df = pd.DataFrame(extensions)\n",
    "    attribute_types = [x[\"trait_type\"] for x in df[\"attributes\"][0]]\n",
    "    attribute_prob_df_dict = {}\n",
    "    for attribute in attribute_types:\n",
    "        attribute_df = df[attribute].value_counts(dropna=False).rename_axis(attribute).reset_index(name=f'{attribute}_count')\n",
    "        attribute_df[f'{attribute}_probability'] = attribute_df[f'{attribute}_count'] / attribute_df[f'{attribute}_count'].sum()\n",
    "        attribute_prob_df_dict[attribute] = attribute_df\n",
    "    for attribute in attribute_types:\n",
    "        df = df.merge(attribute_prob_df_dict[attribute],how=\"left\",on=attribute)\n",
    "    df[\"rarity_score\"] = df.apply(lambda x : calculate_rarity(x,attribute_types),axis=1)\n",
    "    df = df.sort_values(\"rarity_score\",ascending=False)\n",
    "    df[\"rarity_rankings\"] = range(1,len(df)+1)\n",
    "    return df"
   ]
  },
  {
   "cell_type": "code",
   "execution_count": 111,
   "metadata": {},
   "outputs": [
    {
     "name": "stdout",
     "output_type": "stream",
     "text": [
      "158292848\n",
      "158145174\n",
      "157522765\n",
      "157504392\n"
     ]
    }
   ],
   "source": [
    "messages = get_all_messages(NFT_CONTRACT,offset=OFFSET)"
   ]
  },
  {
   "cell_type": "code",
   "execution_count": 112,
   "metadata": {},
   "outputs": [],
   "source": [
    "df = generate_dataframe(messages)"
   ]
  },
  {
   "cell_type": "code",
   "execution_count": 113,
   "metadata": {},
   "outputs": [],
   "source": [
    "df.to_csv(f\"{NFT_CONTRACT}.csv\",index=None)"
   ]
  },
  {
   "cell_type": "code",
   "execution_count": null,
   "metadata": {},
   "outputs": [],
   "source": []
  }
 ],
 "metadata": {
  "kernelspec": {
   "display_name": "Python 3",
   "language": "python",
   "name": "python3"
  },
  "language_info": {
   "codemirror_mode": {
    "name": "ipython",
    "version": 3
   },
   "file_extension": ".py",
   "mimetype": "text/x-python",
   "name": "python",
   "nbconvert_exporter": "python",
   "pygments_lexer": "ipython3",
   "version": "3.7.6"
  }
 },
 "nbformat": 4,
 "nbformat_minor": 4
}
