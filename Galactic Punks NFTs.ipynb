{
 "cells": [
  {
   "cell_type": "code",
   "execution_count": 171,
   "metadata": {},
   "outputs": [],
   "source": [
    "import requests\n",
    "import pandas as pd"
   ]
  },
  {
   "cell_type": "code",
   "execution_count": 172,
   "metadata": {},
   "outputs": [],
   "source": [
    "def get_message_from_tx(tx):\n",
    "    m_list = []\n",
    "    messages = tx['tx']['value']['msg']\n",
    "    for m in messages:\n",
    "        if 'execute_msg' in m['value'].keys():\n",
    "            msg_obj = {\n",
    "                'type':m['type'],\n",
    "                'execute_msg':m['value']['execute_msg']\n",
    "            }\n",
    "            m_list.append(msg_obj)\n",
    "    return m_list"
   ]
  },
  {
   "cell_type": "code",
   "execution_count": 173,
   "metadata": {},
   "outputs": [],
   "source": [
    "def get_all_messages():\n",
    "    loop = True\n",
    "    m_list = []\n",
    "    offset = 0\n",
    "    while loop:\n",
    "        data = requests.get(f\"https://fcd.terra.dev/v1/txs?offset={offset}&limit=100&account=terra103z9cnqm8psy0nyxqtugg6m7xnwvlkqdzm4s4k\")\n",
    "        x = data.json()\n",
    "        for tx in x['txs']:\n",
    "            m_list = m_list + get_message_from_tx(tx)\n",
    "        if 'next' in x.keys():\n",
    "            offset = x['next']\n",
    "        else:\n",
    "            break\n",
    "    m_list = [i for i in m_list if 'mint_nft' in i['execute_msg']]\n",
    "    return m_list"
   ]
  },
  {
   "cell_type": "code",
   "execution_count": 174,
   "metadata": {},
   "outputs": [],
   "source": [
    "def generate_dataframe(message_list):\n",
    "    for i in message_list:\n",
    "        i['token_id'] = i['execute_msg']['mint_nft']['token_id']\n",
    "        i['name'] = i['execute_msg']['mint_nft']['extension']['name']\n",
    "        i['image'] = i['execute_msg']['mint_nft']['extension']['image']\n",
    "        i['attributes'] = i['execute_msg']['mint_nft']['extension']['attributes']\n",
    "        i['description'] = i['execute_msg']['mint_nft']['extension']['description']\n",
    "        i['token_uri'] = i['execute_msg']['mint_nft']['token_uri']\n",
    "        \n",
    "    for i in message_list:\n",
    "        for a in i['attributes']:\n",
    "            i[a['trait_type']] = a['value']\n",
    "            \n",
    "    df = pd.DataFrame(message_list)\n",
    "    df['number_attributes'] = df.notnull()[\n",
    "        ['backgrounds','suits','species','face','hair','glasses','headware','jewelry']\n",
    "    ].sum(axis=1)\n",
    "    df_lean = df[\n",
    "        ['description','name','token_id','image','token_uri',\n",
    "         'backgrounds','suits','species','face','hair','glasses',\n",
    "         'headware','jewelry','number_attributes']\n",
    "    ]\n",
    "    return df_lean"
   ]
  },
  {
   "cell_type": "code",
   "execution_count": 175,
   "metadata": {},
   "outputs": [],
   "source": [
    "messages = get_all_messages()\n",
    "df = generate_dataframe(messages)\n",
    "df.to_csv('gp.csv',index=None)"
   ]
  },
  {
   "cell_type": "code",
   "execution_count": null,
   "metadata": {},
   "outputs": [],
   "source": []
  }
 ],
 "metadata": {
  "kernelspec": {
   "display_name": "Python 3",
   "language": "python",
   "name": "python3"
  },
  "language_info": {
   "codemirror_mode": {
    "name": "ipython",
    "version": 3
   },
   "file_extension": ".py",
   "mimetype": "text/x-python",
   "name": "python",
   "nbconvert_exporter": "python",
   "pygments_lexer": "ipython3",
   "version": "3.7.6"
  }
 },
 "nbformat": 4,
 "nbformat_minor": 4
}
